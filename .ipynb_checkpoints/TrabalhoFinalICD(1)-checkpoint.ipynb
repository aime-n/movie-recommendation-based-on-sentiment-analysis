{
 "cells": [
  {
   "cell_type": "markdown",
   "id": "2fc6e3ec-e032-41c8-8ebd-0eb9f4664d24",
   "metadata": {},
   "source": [
    "# **Sistemas Colaborativos de Recomendação**\n",
    "#### Teoria, abordagens e restrições"
   ]
  },
  {
   "cell_type": "markdown",
   "id": "92f78638-e716-4f7f-be72-2b36f8e96eb0",
   "metadata": {},
   "source": [
    "<hr>"
   ]
  },
  {
   "cell_type": "markdown",
   "id": "961306c7-c3d5-4897-84fd-769cf104e571",
   "metadata": {},
   "source": [
    "## Resumo"
   ]
  },
  {
   "cell_type": "code",
   "execution_count": null,
   "id": "7af79072-3be3-4917-9be1-d9f6f32e9a4b",
   "metadata": {},
   "outputs": [],
   "source": []
  },
  {
   "cell_type": "markdown",
   "id": "e01fe9cd-136d-46c3-949f-62db85e09c06",
   "metadata": {},
   "source": [
    "## Sumário"
   ]
  },
  {
   "cell_type": "markdown",
   "id": "dd137c85-8318-43bc-8987-aace17d8713a",
   "metadata": {},
   "source": [
    "- #### [Introdução](#Introdução)\n",
    "- #### [Configurações](#Configurações)\n",
    "- #### [Dados](#Dados)\n",
    "- #### [Modelo Simples](#Modelo-Simples)\n",
    "    - ##### [Top-K](#Top-K)\n",
    "    - ##### [Normalizado](#Normalizado)\n",
    "    - ##### [Top-K Normalizado](#Top-K-Normalizado)\n",
    "- #### [Fatorização](#Fatorização)\n",
    "    - ##### [Mínimos Quadrados Alternado](#Minímos-Quadrados-Alternado)\n",
    "    - ##### [Gradiente Descendente Estocástico](#Gradiente-Descendente-Estocástico)\n",
    "- #### [Otimização](#Otimização)\n",
    "- #### [Conclusões](#Conclusões)\n",
    "- #### [Referências](#Referências)\n"
   ]
  },
  {
   "cell_type": "markdown",
   "id": "9f0b5ca0-479c-48ba-a6d5-573fccaef052",
   "metadata": {},
   "source": [
    "## Introdução"
   ]
  },
  {
   "cell_type": "code",
   "execution_count": null,
   "id": "9adad227-6656-40c1-8578-20b941a389e2",
   "metadata": {},
   "outputs": [],
   "source": []
  },
  {
   "cell_type": "markdown",
   "id": "b9b94122-a7eb-4d03-ab14-d84f5326f3a2",
   "metadata": {},
   "source": [
    "## Configurações"
   ]
  },
  {
   "cell_type": "code",
   "execution_count": 13,
   "id": "3a1cc66f-960b-4f2e-9a72-4867828b9623",
   "metadata": {},
   "outputs": [],
   "source": [
    "## bibliotecas utilizadas\n",
    "\n",
    "from numpy import linalg\n",
    "import numpy as np\n",
    "\n",
    "from scipy import stats\n",
    "\n",
    "from sklearn.metrics import mean_squared_error\n",
    "\n",
    "import pandas as pd\n",
    "\n",
    "import matplotlib.pyplot as plt\n",
    "from mpl_toolkits import mplot3d\n",
    "\n",
    "import seaborn as sns"
   ]
  },
  {
   "cell_type": "code",
   "execution_count": 14,
   "id": "86b51b86-30b0-460a-882f-456ac27c19cc",
   "metadata": {},
   "outputs": [],
   "source": [
    "# Parâmetros globais do Pyplot\n",
    "# Tamanho das figuras\n",
    "\n",
    "plt.rcParams['figure.figsize'] = [7, 7]\n",
    "plt.rcParams['xtick.labelsize'] = 14 \n",
    "plt.rcParams['ytick.labelsize'] = 14 \n",
    "\n",
    "# Tamanho das fontes nos gráficos\n",
    "\n",
    "plt.rc('font', size = 14)          # controls default text sizes\n",
    "plt.rc('axes', titlesize = 17)     # fontsize of the axes title\n",
    "plt.rc('axes', labelsize = 17)     # fontsize of the x and y labels\n",
    "plt.rc('xtick', labelsize = 14)    # fontsize of the tick labels\n",
    "plt.rc('ytick', labelsize = 14)    # fontsize of the tick labels\n",
    "plt.rc('legend', fontsize = 16)    # legend fontsize\n",
    "plt.rc('figure', titlesize = 18)   # fontsize of the figure title\n",
    "\n",
    "suptitle_size = 20"
   ]
  },
  {
   "cell_type": "markdown",
   "id": "65489949-021e-4992-a3e1-d8e4c4b2ee0a",
   "metadata": {},
   "source": [
    "## Dados"
   ]
  },
  {
   "cell_type": "code",
   "execution_count": null,
   "id": "468de247-163e-43b6-8a8e-325fc19bbaf2",
   "metadata": {},
   "outputs": [],
   "source": []
  },
  {
   "cell_type": "markdown",
   "id": "48a37602-9f69-4bce-bd95-8998c5cf7507",
   "metadata": {},
   "source": [
    "## Modelos Simples"
   ]
  },
  {
   "cell_type": "code",
   "execution_count": null,
   "id": "a85bb5cb-abb1-4ed3-891d-8f1c1c5c4f66",
   "metadata": {},
   "outputs": [],
   "source": []
  },
  {
   "cell_type": "markdown",
   "id": "69ce4bb4-7145-4dfb-9778-99e3f32c4f30",
   "metadata": {},
   "source": [
    "- ### Top-K"
   ]
  },
  {
   "cell_type": "code",
   "execution_count": null,
   "id": "e8e52d11-b8c1-476e-90d2-a47977322eec",
   "metadata": {},
   "outputs": [],
   "source": []
  },
  {
   "cell_type": "markdown",
   "id": "db55b301-113b-4ff0-8451-86116441a697",
   "metadata": {},
   "source": [
    "- ### Normalizado"
   ]
  },
  {
   "cell_type": "code",
   "execution_count": null,
   "id": "eab80ab7-ab47-4d16-abca-05b498969e21",
   "metadata": {},
   "outputs": [],
   "source": []
  },
  {
   "cell_type": "markdown",
   "id": "49b7969b-3604-4a07-8a05-6fa02ab16553",
   "metadata": {},
   "source": [
    "- ### Top-K Normalizado"
   ]
  },
  {
   "cell_type": "code",
   "execution_count": null,
   "id": "0a8ecb54-ad57-4678-8df3-0ebdd87e897b",
   "metadata": {},
   "outputs": [],
   "source": []
  },
  {
   "cell_type": "markdown",
   "id": "18ee041b-7da7-4db1-ab39-0011cce2286d",
   "metadata": {},
   "source": [
    "## Fatorização"
   ]
  },
  {
   "cell_type": "code",
   "execution_count": null,
   "id": "5975a723-ff05-46ff-925a-30b9641ffa59",
   "metadata": {},
   "outputs": [],
   "source": []
  },
  {
   "cell_type": "markdown",
   "id": "4e8d8dec-dfa0-4e8c-929a-85d1fb3300ca",
   "metadata": {},
   "source": [
    "- ### Minímos Quadrados Alternado"
   ]
  },
  {
   "cell_type": "code",
   "execution_count": null,
   "id": "6ef5eee2-6606-4123-8976-9368680d05c6",
   "metadata": {},
   "outputs": [],
   "source": []
  },
  {
   "cell_type": "markdown",
   "id": "bcfafe0d-edff-4b4c-b90a-0d6b7cbf9f5b",
   "metadata": {},
   "source": [
    "- ### Gradiente Descendente Estocástico"
   ]
  },
  {
   "cell_type": "code",
   "execution_count": null,
   "id": "04cd0cb9-cba7-4d31-b407-5ba15380ea8b",
   "metadata": {},
   "outputs": [],
   "source": []
  },
  {
   "cell_type": "markdown",
   "id": "78e9d878-6bee-42ad-abd0-fba446af6e76",
   "metadata": {},
   "source": [
    "## Otimização"
   ]
  },
  {
   "cell_type": "code",
   "execution_count": null,
   "id": "04da184a-999e-48af-b81d-90aa7375a58f",
   "metadata": {},
   "outputs": [],
   "source": []
  },
  {
   "cell_type": "markdown",
   "id": "ef3ce5c3-8971-443b-9fdc-c27513bada81",
   "metadata": {},
   "source": [
    "## Conclusões"
   ]
  },
  {
   "cell_type": "code",
   "execution_count": null,
   "id": "5d3b5b94-8c7b-4acf-a6fe-07647358812e",
   "metadata": {},
   "outputs": [],
   "source": []
  },
  {
   "cell_type": "markdown",
   "id": "0b9c4a9f-422b-4098-b169-531bbc1c7f4f",
   "metadata": {},
   "source": [
    "## Referências"
   ]
  },
  {
   "cell_type": "markdown",
   "id": "5a8719dd-b1ee-4e0e-9953-8794afaf9d56",
   "metadata": {},
   "source": [
    " - [Introduction to Recommender Systems](https://towardsdatascience.com/introduction-to-recommender-systems-6c66cf15ada)\n",
    " \n",
    " - [Collaborative Filtering](https://www.ethanrosenthal.com/2015/11/02/intro-to-collaborative-filtering/)\n",
    " \n",
    " - [Singular Value Decomposition (Curso: Não necessário)](https://www.youtube.com/watch?v=gXbThCXjZFM&list=PLMrJAkhIeNNSVjnsviglFoY2nXildDCcv&index=1)\n",
    " \n",
    " - [Matrix Factorization](https://www.ethanrosenthal.com/2016/01/09/explicit-matrix-factorization-sgd-als/)\n",
    " \n",
    " - [Intuitions on L1 and L2 Regularisation](https://towardsdatascience.com/intuitions-on-l1-and-l2-regularisation-235f2db4c261)\n",
    " \n",
    " - [Lasso and Ridge Regularization](https://medium.com/@dk13093/lasso-and-ridge-regularization-7b7b847bce34)\n",
    " \n",
    " - [L1 and L2 Regularization](https://medium.datadriveninvestor.com/l1-l2-regularization-7f1b4fe948f2) \n",
    " \n",
    " - [Regularization Part 1: Ridge (L2) Regression](https://www.youtube.com/watch?v=Q81RR3yKn30)\n",
    " \n",
    " - [Regularization Part 2: Lasso (L1) Regression](https://www.youtube.com/watch?v=NGf0voTMlcs)}"
   ]
  }
 ],
 "metadata": {
  "kernelspec": {
   "display_name": "Python 3",
   "language": "python",
   "name": "python3"
  },
  "language_info": {
   "codemirror_mode": {
    "name": "ipython",
    "version": 3
   },
   "file_extension": ".py",
   "mimetype": "text/x-python",
   "name": "python",
   "nbconvert_exporter": "python",
   "pygments_lexer": "ipython3",
   "version": "3.8.8"
  }
 },
 "nbformat": 4,
 "nbformat_minor": 5
}
