{
 "cells": [
  {
   "cell_type": "code",
   "execution_count": 1,
   "id": "27f0b201-9330-421b-9684-d3911c4a0152",
   "metadata": {},
   "outputs": [],
   "source": [
    "import sys\n",
    "sys.path.insert(0, '../scripts/')"
   ]
  },
  {
   "cell_type": "code",
   "execution_count": 2,
   "id": "3bf61bbc-0b8b-4614-8b13-8661f674d0b7",
   "metadata": {},
   "outputs": [],
   "source": [
    "from filters import filter_rows"
   ]
  },
  {
   "cell_type": "code",
   "execution_count": 6,
   "id": "2ebed648-5845-449a-82a4-256f378ce104",
   "metadata": {},
   "outputs": [],
   "source": [
    "# Some rating values was filled with date values, so the filter try to convert and return true for success\n",
    " # comentario
    "def filtr_notnull_rating(v):\n",
    "    \n",
    "    try:\n",
    "        _ = int(v[2]) # try to convert the rating value to int \n",
    "        \n",
    "        return True\n",
    "    \n",
    "    except:\n",
    "        \n",
    "        return False"
   ]
  },
  {
   "cell_type": "code",
   "execution_count": 4,
   "id": "a4cf465f-436a-4309-b1a0-7204906704a3",
   "metadata": {},
   "outputs": [],
   "source": [
    "data_path = '../../data/ordered_dataset.csv'\n",
    "sample_path = '../../data/sample_dataset.csv'\n",
    "\n",
    "sample_n = 10000"
   ]
  },
  {
   "cell_type": "code",
   "execution_count": 5,
   "id": "b47feb9c-2242-4677-ad74-b9b7891eaa00",
   "metadata": {},
   "outputs": [
    {
     "name": "stdout",
     "output_type": "stream",
     "text": [
      "Your file was filtered with success!\n",
      "Number of lines: 10000\n"
     ]
    }
   ],
   "source": [
    "filter_rows(data_path, sample_path, filtr_notnull_rating, sample_n)"
   ]
  }
 ],
 "metadata": {
  "kernelspec": {
   "display_name": "Python 3",
   "language": "python",
   "name": "python3"
  },
  "language_info": {
   "codemirror_mode": {
    "name": "ipython",
    "version": 3
   },
   "file_extension": ".py",
   "mimetype": "text/x-python",
   "name": "python",
   "nbconvert_exporter": "python",
   "pygments_lexer": "ipython3",
   "version": "3.8.8"
  }
 },
 "nbformat": 4,
 "nbformat_minor": 5
}
