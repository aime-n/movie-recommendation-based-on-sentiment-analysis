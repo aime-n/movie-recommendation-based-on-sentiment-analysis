{
 "cells": [
  {
   "cell_type": "markdown",
   "metadata": {},
   "source": [
    "# **Sistemas Colaborativos de Recomendação**\n",
    "#### Teoria, abordagens e restrições"
   ]
  },
  {
   "cell_type": "markdown",
   "metadata": {},
   "source": [
    "<hr>"
   ]
  },
  {
   "cell_type": "markdown",
   "metadata": {},
   "source": [
    "## Resumo"
   ]
  },
  {
   "cell_type": "code",
   "execution_count": null,
   "metadata": {},
   "outputs": [],
   "source": []
  },
  {
   "cell_type": "markdown",
   "metadata": {},
   "source": [
    "## Sumário"
   ]
  },
  {
   "cell_type": "markdown",
   "metadata": {},
   "source": [
    "- #### [Introdução](#Introdução)\n",
    "- #### [Configurações](#Configurações)\n",
    "- #### [Dados](#Dados)\n",
    "- #### [Modelo Simples](#Modelo-Simples)\n",
    "    - ##### [Top-K](#Top-K)\n",
    "    - ##### [Normalizado](#Normalizado)\n",
    "    - ##### [Top-K Normalizado](#Top-K-Normalizado)\n",
    "- #### [Fatorização](#Fatorização)\n",
    "    - ##### [Mínimos Quadrados Alternado](#Minímos-Quadrados-Alternado)\n",
    "    - ##### [Gradiente Descendente Estocástico](#Gradiente-Descendente-Estocástico)\n",
    "- #### [Otimização](#Otimização)\n",
    "- #### [Conclusões](#Conclusões)\n",
    "- #### [Referências](#Referências)\n"
   ]
  },
  {
   "cell_type": "markdown",
   "metadata": {},
   "source": [
    "## Introdução"
   ]
  },
  {
   "cell_type": "markdown",
   "metadata": {},
   "source": [
    "Sistemas de recomendação estão em todos os lugares. Seja no momento de olhar um produto para compra ou no de escolher o que assistir a seguir. Eles são muito importantes para manter o interesse do usuário no site, pois faz uma sugestão personalizada ao usuário. E pode funcionar tanto ligando um produto parecido a outro, quanto ligando usuário semelhantes, e recomendando o que itens que um gostou ao outro. \n",
    "\n",
    "Nesse trabalho, iremos abordar técnicas de recomendação de filmes. Discutiremos cada método e "
   ]
  },
  {
   "cell_type": "markdown",
   "metadata": {},
   "source": [
    "## Configurações"
   ]
  },
  {
   "cell_type": "code",
   "execution_count": 13,
   "metadata": {},
   "outputs": [],
   "source": [
    "## bibliotecas utilizadas\n",
    "\n",
    "from numpy import linalg\n",
    "import numpy as np\n",
    "\n",
    "from scipy import stats\n",
    "\n",
    "from sklearn.metrics import mean_squared_error\n",
    "\n",
    "import pandas as pd\n",
    "\n",
    "import matplotlib.pyplot as plt\n",
    "from mpl_toolkits import mplot3d\n",
    "\n",
    "import seaborn as sns"
   ]
  },
  {
   "cell_type": "code",
   "execution_count": 14,
   "metadata": {},
   "outputs": [],
   "source": [
    "# Parâmetros globais do Pyplot\n",
    "# Tamanho das figuras\n",
    "\n",
    "plt.rcParams['figure.figsize'] = [7, 7]\n",
    "plt.rcParams['xtick.labelsize'] = 14 \n",
    "plt.rcParams['ytick.labelsize'] = 14 \n",
    "\n",
    "# Tamanho das fontes nos gráficos\n",
    "\n",
    "plt.rc('font', size = 14)          # controls default text sizes\n",
    "plt.rc('axes', titlesize = 17)     # fontsize of the axes title\n",
    "plt.rc('axes', labelsize = 17)     # fontsize of the x and y labels\n",
    "plt.rc('xtick', labelsize = 14)    # fontsize of the tick labels\n",
    "plt.rc('ytick', labelsize = 14)    # fontsize of the tick labels\n",
    "plt.rc('legend', fontsize = 16)    # legend fontsize\n",
    "plt.rc('figure', titlesize = 18)   # fontsize of the figure title\n",
    "\n",
    "suptitle_size = 20"
   ]
  },
  {
   "cell_type": "markdown",
   "metadata": {},
   "source": [
    "## Dados"
   ]
  },
  {
   "cell_type": "code",
   "execution_count": null,
   "metadata": {},
   "outputs": [],
   "source": []
  },
  {
   "cell_type": "markdown",
   "metadata": {},
   "source": [
    "## Modelos Simples"
   ]
  },
  {
   "cell_type": "code",
   "execution_count": null,
   "metadata": {},
   "outputs": [],
   "source": []
  },
  {
   "cell_type": "markdown",
   "metadata": {},
   "source": [
    "- ### Top-K"
   ]
  },
  {
   "cell_type": "code",
   "execution_count": null,
   "metadata": {},
   "outputs": [],
   "source": []
  },
  {
   "cell_type": "markdown",
   "metadata": {},
   "source": [
    "- ### Normalizado"
   ]
  },
  {
   "cell_type": "code",
   "execution_count": null,
   "metadata": {},
   "outputs": [],
   "source": []
  },
  {
   "cell_type": "markdown",
   "metadata": {},
   "source": [
    "- ### Top-K Normalizado"
   ]
  },
  {
   "cell_type": "code",
   "execution_count": null,
   "metadata": {},
   "outputs": [],
   "source": []
  },
  {
   "cell_type": "markdown",
   "metadata": {},
   "source": [
    "## Fatorização"
   ]
  },
  {
   "cell_type": "code",
   "execution_count": null,
   "metadata": {},
   "outputs": [],
   "source": []
  },
  {
   "cell_type": "markdown",
   "metadata": {},
   "source": [
    "- ### Minímos Quadrados Alternado"
   ]
  },
  {
   "cell_type": "code",
   "execution_count": null,
   "metadata": {},
   "outputs": [],
   "source": []
  },
  {
   "cell_type": "markdown",
   "metadata": {},
   "source": [
    "- ### Gradiente Descendente Estocástico"
   ]
  },
  {
   "cell_type": "code",
   "execution_count": null,
   "metadata": {},
   "outputs": [],
   "source": []
  },
  {
   "cell_type": "markdown",
   "metadata": {},
   "source": [
    "## Otimização"
   ]
  },
  {
   "cell_type": "code",
   "execution_count": null,
   "metadata": {},
   "outputs": [],
   "source": []
  },
  {
   "cell_type": "markdown",
   "metadata": {},
   "source": [
    "## Conclusões"
   ]
  },
  {
   "cell_type": "code",
   "execution_count": null,
   "metadata": {},
   "outputs": [],
   "source": []
  },
  {
   "cell_type": "markdown",
   "metadata": {},
   "source": [
    "## Referências"
   ]
  },
  {
   "cell_type": "markdown",
   "metadata": {},
   "source": [
    " - [Introduction to Recommender Systems](https://towardsdatascience.com/introduction-to-recommender-systems-6c66cf15ada)\n",
    " \n",
    " - [Collaborative Filtering](https://www.ethanrosenthal.com/2015/11/02/intro-to-collaborative-filtering/)\n",
    " \n",
    " - [Singular Value Decomposition (Curso: Não necessário)](https://www.youtube.com/watch?v=gXbThCXjZFM&list=PLMrJAkhIeNNSVjnsviglFoY2nXildDCcv&index=1)\n",
    " \n",
    " - [Matrix Factorization](https://www.ethanrosenthal.com/2016/01/09/explicit-matrix-factorization-sgd-als/)\n",
    " \n",
    " - [Intuitions on L1 and L2 Regularisation](https://towardsdatascience.com/intuitions-on-l1-and-l2-regularisation-235f2db4c261)\n",
    " \n",
    " - [Lasso and Ridge Regularization](https://medium.com/@dk13093/lasso-and-ridge-regularization-7b7b847bce34)\n",
    " \n",
    " - [L1 and L2 Regularization](https://medium.datadriveninvestor.com/l1-l2-regularization-7f1b4fe948f2) \n",
    " \n",
    " - [Regularization Part 1: Ridge (L2) Regression](https://www.youtube.com/watch?v=Q81RR3yKn30)\n",
    " \n",
    " - [Regularization Part 2: Lasso (L1) Regression](https://www.youtube.com/watch?v=NGf0voTMlcs)}"
   ]
  }
 ],
 "metadata": {
  "kernelspec": {
   "display_name": "Python 3",
   "language": "python",
   "name": "python3"
  },
  "language_info": {
   "codemirror_mode": {
    "name": "ipython",
    "version": 3
   },
   "file_extension": ".py",
   "mimetype": "text/x-python",
   "name": "python",
   "nbconvert_exporter": "python",
   "pygments_lexer": "ipython3",
   "version": "3.7.6"
  }
 },
 "nbformat": 4,
 "nbformat_minor": 5
}
